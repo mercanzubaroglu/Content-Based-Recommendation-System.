{
 "cells": [
  {
   "cell_type": "code",
   "execution_count": 71,
   "id": "2b82d727-a8e8-482d-bde3-66024b0bf154",
   "metadata": {},
   "outputs": [],
   "source": [
    "# Gerekli kütüphaneleri içe aktaralım - import required libraries\n",
    "import pandas as pd\n",
    "import numpy as np\n",
    "import seaborn as sns\n",
    "import matplotlib.pyplot as plt\n",
    "from sklearn.feature_extraction.text import TfidfVectorizer\n",
    "from sklearn.metrics.pairwise import linear_kernel\n",
    "from sklearn.preprocessing import normalize\n"
   ]
  },
  {
   "cell_type": "code",
   "execution_count": 72,
   "id": "e2ae4006-d5c2-412d-bf80-f6c3ee2223da",
   "metadata": {},
   "outputs": [],
   "source": [
    "df = pd.read_csv(\"tripadvisor_hotel_reviews.csv\")"
   ]
  },
  {
   "cell_type": "code",
   "execution_count": 73,
   "id": "afe14ef1-26b4-4ab9-8506-fb334f847d85",
   "metadata": {},
   "outputs": [
    {
     "name": "stdout",
     "output_type": "stream",
     "text": [
      "                                              Review  Rating\n",
      "0  nice hotel expensive parking got good deal sta...       4\n",
      "1  ok nothing special charge diamond member hilto...       2\n",
      "2  nice rooms not 4* experience hotel monaco seat...       3\n",
      "3  unique, great stay, wonderful time hotel monac...       5\n",
      "4  great stay great stay, went seahawk game aweso...       5\n"
     ]
    }
   ],
   "source": [
    "# Veri setinin ilk 5 satırını göster - Show first 5 rows of the dataset\n",
    "print(df.head())"
   ]
  },
  {
   "cell_type": "code",
   "execution_count": 74,
   "id": "fc6687a1-9ef4-4d85-8bb6-fef208dfbf6d",
   "metadata": {},
   "outputs": [
    {
     "name": "stdout",
     "output_type": "stream",
     "text": [
      "<class 'pandas.core.frame.DataFrame'>\n",
      "RangeIndex: 20491 entries, 0 to 20490\n",
      "Data columns (total 2 columns):\n",
      " #   Column  Non-Null Count  Dtype \n",
      "---  ------  --------------  ----- \n",
      " 0   Review  20491 non-null  object\n",
      " 1   Rating  20491 non-null  int64 \n",
      "dtypes: int64(1), object(1)\n",
      "memory usage: 320.3+ KB\n"
     ]
    }
   ],
   "source": [
    "# Veri hakkında genel bilgiler - general information about the dataset\n",
    "df.info()"
   ]
  },
  {
   "cell_type": "code",
   "execution_count": 75,
   "id": "0a23e107-5f57-4e2a-9596-3e38f227ce1c",
   "metadata": {},
   "outputs": [
    {
     "name": "stdout",
     "output_type": "stream",
     "text": [
      "Review    0\n",
      "Rating    0\n",
      "dtype: int64\n"
     ]
    }
   ],
   "source": [
    "# Eksik değer kontrolü - Check for missing values \n",
    "print(df.isnull().sum())"
   ]
  },
  {
   "cell_type": "code",
   "execution_count": 76,
   "id": "ac2ba1ad-6e54-44eb-b4c5-270bf475736a",
   "metadata": {},
   "outputs": [
    {
     "name": "stdout",
     "output_type": "stream",
     "text": [
      "\n",
      "Derece Dağılımı / Rating Distribution\n",
      "Rating\n",
      "5    9054\n",
      "4    6039\n",
      "3    2184\n",
      "2    1793\n",
      "1    1421\n",
      "Name: count, dtype: int64\n"
     ]
    }
   ],
   "source": [
    "# Derecelendirme (Rating) sütunundaki benzersiz değerleri ve sıklığını göster - Show unique values and frequencies in the Rating column\n",
    "print(\"\\nDerece Dağılımı / Rating Distribution\")\n",
    "print(df['Rating'].value_counts())"
   ]
  },
  {
   "cell_type": "code",
   "execution_count": 77,
   "id": "15414caf-406f-4f57-9c6f-7d54bb1752ab",
   "metadata": {},
   "outputs": [
    {
     "data": {
      "image/png": "[encoded data removed]",
      "text/plain": [
       "<Figure size 600x400 with 1 Axes>"
      ]
     },
     "metadata": {},
     "output_type": "display_data"
    }
   ],
   "source": [
    "# Derecelendirme dağılımını görselleştir - Visualize rating distribution\n",
    "plt.figure(figsize=(6,4))\n",
    "sns.countplot(x=\"Rating\", data=df)\n",
    "plt.title(\"Derece Dağılımı / Rating Distribution\")\n",
    "plt.xlabel(\"Derece / Rating\")\n",
    "plt.ylabel(\"Sayı / Count\")\n",
    "plt.show()"
   ]
  },
  {
   "cell_type": "code",
   "execution_count": 78,
   "id": "a39f8e2b-561d-46e1-98f9-412f02ea392b",
   "metadata": {},
   "outputs": [],
   "source": [
    "# METİN ÖN İŞLEME ve TF-IDF -  TEXT PREPROCESSING and TF-IDF\n",
    "\n",
    "# TF-IDF ile metni sayısal vektör haline getir - Convert text into numerical vectors using TF-IDF\n",
    "vectorizer = TfidfVectorizer(stop_words=\"english\")\n",
    "tfidf_matrix = vectorizer.fit_transform(df['Review'])"
   ]
  },
  {
   "cell_type": "code",
   "execution_count": 79,
   "id": "1b4b6abf-36cc-4e20-8a74-1c2ca911d750",
   "metadata": {},
   "outputs": [
    {
     "name": "stdout",
     "output_type": "stream",
     "text": [
      "\n",
      "TF-IDF Matris Boyutu / TF-IDF Matrix Shape\n",
      "(20491, 52650)\n"
     ]
    }
   ],
   "source": [
    "# TF-IDF matris boyutunu yazdır - Print the shape of TF-IDF matrix\n",
    "print(\"\\nTF-IDF Matris Boyutu / TF-IDF Matrix Shape\")\n",
    "print(tfidf_matrix.shape)  # (yorum sayısı, kelime sayısı)"
   ]
  },
  {
   "cell_type": "code",
   "execution_count": 80,
   "id": "c399d171-eb30-4aaa-9de0-e94d3291e68a",
   "metadata": {},
   "outputs": [],
   "source": [
    "# COSINE BENZERLİK MATRİSİ - COSINE SIMILARITY MATRIX\n",
    "\n",
    "# Cosine benzerlik matrisi hesapla (satır satıra benzerlik) - Compute cosine similarity matrix (row-to-row similarity)\n",
    "cos_sim_matrix = linear_kernel(tfidf_matrix, tfidf_matrix)"
   ]
  },
  {
   "cell_type": "code",
   "execution_count": 81,
   "id": "f5394987-21ed-43e6-8921-8949197f6fda",
   "metadata": {},
   "outputs": [],
   "source": [
    "# Seçilen bir yorumdan benzer olanları öneren fonksiyon\n",
    "# Function to recommend similar reviews to a selected review index\n",
    "\n",
    "def review_recommender(index, top_n=5):\n",
    "    similarity_scores = list(enumerate(cos_sim_matrix[index]))  # (index, benzerlik) listesi\n",
    "    similarity_scores = sorted(similarity_scores, key=lambda x: x[1], reverse=True)  # en benzerden az benzer olana sırala\n",
    "    top_indices = [i[0] for i in similarity_scores[1:top_n+1]]  # kendisi hariç ilk N öneri\n",
    "    return df.iloc[top_indices][['Review', 'Rating']]\n"
   ]
  },
  {
   "cell_type": "code",
   "execution_count": 82,
   "id": "56fd5943-9ad8-4f46-be62-d3765569ffac",
   "metadata": {},
   "outputs": [
    {
     "name": "stdout",
     "output_type": "stream",
     "text": [
      "\n",
      " Öneri Sonuçları / Recommendation Results\n",
      "                                               Review  Rating\n",
      "33  good location poor cleanliness warwick hotel g...       2\n",
      "43  great service warwick just recently spent 4 da...       4\n",
      "26  loved, stayed warwick overnight getway enjoy c...       4\n",
      "34  good place spending big bucks warwick plenty c...       4\n",
      "32  noise airconditioner-a standard, arranged stay...       1\n"
     ]
    }
   ],
   "source": [
    "# Örnek: 42. yoruma benzer ilk 5 yorumu getir\n",
    "# Example: Get top 5 similar reviews to review #42\n",
    "print(\"\\n Öneri Sonuçları / Recommendation Results\")\n",
    "similar_reviews = review_recommender(42)\n",
    "print(similar_reviews)"
   ]
  },
  {
   "cell_type": "code",
   "execution_count": 83,
   "id": "45d6182b-affc-455d-8a10-2f18b02f3976",
   "metadata": {},
   "outputs": [],
   "source": [
    "#  KULLANICI PROFİLİ OLUŞTURMA (Opsiyonel ileri düzey)\n",
    "# USER PROFILE CREATION (Optional advanced)\n",
    "\n",
    "# Örnek: Kullanıcının beğendiği yorum ID'leri ve verdiği skorlar\n",
    "# Example: Review IDs and ratings that the user liked\n",
    "user_likes = {\n",
    "    10: 5,  # review id 10 rated 5\n",
    "    20: 4,  # review id 20 rated 4\n",
    "    33: 5   # review id 33 rated 5\n",
    "}"
   ]
  },
  {
   "cell_type": "code",
   "execution_count": 84,
   "id": "e647d5d5-9c02-4429-b953-98b36dafe2e1",
   "metadata": {},
   "outputs": [],
   "source": [
    "# Kullanıcı profilini hesapla: TF-IDF vektörleri ile skorları çarp ve topla\n",
    "# Compute user profile vector: weighted sum of liked review vectors\n",
    "user_vector = sum([score * tfidf_matrix[idx] for idx, score in user_likes.items()])"
   ]
  },
  {
   "cell_type": "code",
   "execution_count": 66,
   "id": "606db132-97cc-4aa8-9567-1416f43ebe21",
   "metadata": {},
   "outputs": [],
   "source": [
    "# Vektörü normalize et (tekil vektöre indir) - Normalize the user vector\n",
    "user_vector = normalize(user_vector)\n"
   ]
  },
  {
   "cell_type": "code",
   "execution_count": 67,
   "id": "423c6a6b-c93e-4aa8-9d04-c4b23d4148f2",
   "metadata": {},
   "outputs": [],
   "source": [
    "# Kullanıcı profiline en benzer yorumları bul - Find reviews most similar to the user profile\n",
    "user_similarities = linear_kernel(user_vector, tfidf_matrix).flatten()\n",
    "top_user_indices = user_similarities.argsort()[::-1][:5]  # en yüksek 5 benzerlik skoru"
   ]
  },
  {
   "cell_type": "code",
   "execution_count": 68,
   "id": "25b9f2e2-3920-45f3-ad87-a027dd94878e",
   "metadata": {},
   "outputs": [
    {
     "name": "stdout",
     "output_type": "stream",
     "text": [
      "\n",
      "Kullanıcıya Özel Öneriler / Personalized Recommendations\n",
      "                                               Review  Rating\n",
      "10  poor value stayed monaco seattle july, nice ho...       2\n",
      "33  good location poor cleanliness warwick hotel g...       2\n",
      "20  service service service spent week g-friend la...       5\n",
      "22  good value downtown hotel monaco seattle great...       4\n",
      "35  nice hotel trip seattle wanted stay downtown, ...       4\n"
     ]
    }
   ],
   "source": [
    "# Sonuçları yazdır\n",
    "# Print the top 5 personalized recommendations\n",
    "print(\"\\nKullanıcıya Özel Öneriler / Personalized Recommendations\")\n",
    "print(df.iloc[top_user_indices][['Review', 'Rating']])"
   ]
  },
  {
   "cell_type": "code",
   "execution_count": null,
   "id": "9f412659-8c09-4f8b-a7a4-376ae7956432",
   "metadata": {},
   "outputs": [],
   "source": []
  },
  {
   "cell_type": "code",
   "execution_count": null,
   "id": "952bffb5-620d-4651-b079-98db698f4003",
   "metadata": {},
   "outputs": [],
   "source": []
  }
 ],
 "metadata": {
  "kernelspec": {
   "display_name": "Python 3 (ipykernel)",
   "language": "python",
   "name": "python3"
  },
  "language_info": {
   "codemirror_mode": {
    "name": "ipython",
    "version": 3
   },
   "file_extension": ".py",
   "mimetype": "text/x-python",
   "name": "python",
   "nbconvert_exporter": "python",
   "pygments_lexer": "ipython3",
   "version": "3.11.5"
  }
 },
 "nbformat": 4,
 "nbformat_minor": 5
}
